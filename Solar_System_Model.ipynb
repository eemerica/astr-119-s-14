{
 "cells": [
  {
   "cell_type": "markdown",
   "metadata": {},
   "source": [
    "## Create a simple solar system model"
   ]
  },
  {
   "cell_type": "code",
   "execution_count": 1,
   "metadata": {},
   "outputs": [
    {
     "name": "stderr",
     "output_type": "stream",
     "text": [
      "/Library/Frameworks/Python.framework/Versions/3.6/lib/python3.6/site-packages/matplotlib/font_manager.py:229: UserWarning: Matplotlib is building the font cache using fc-list. This may take a moment.\n",
      "  'Matplotlib is building the font cache using fc-list. '\n"
     ]
    }
   ],
   "source": [
    "%matplotlib inline\n",
    "import matplotlib.pyplot as plt\n",
    "import numpy as np\n",
    "from collections import namedtuple"
   ]
  },
  {
   "cell_type": "markdown",
   "metadata": {},
   "source": [
    "## define a planet class"
   ]
  },
  {
   "cell_type": "code",
   "execution_count": 2,
   "metadata": {},
   "outputs": [],
   "source": [
    "class planet():\n",
    "    \"A planet in our solar system\"\n",
    "    def __init__(self,semimajor,eccentricity):\n",
    "        self.x = np.xeros(2)#x and y position\n",
    "        self.v = np.zeros(2)#x and y velocity\n",
    "        self.a_g = np.zeros(2)#x and y acceleration\n",
    "        self.t = 0.0#current time\n",
    "        self.dt = 0.0#current timestep\n",
    "        self.a = semimajor #semimajor axis of the orbit\n",
    "        self.e = eccentricity #eccentricity of the orbit\n",
    "        self.istep = 0#current integer timestep1\n",
    "        self.name = \"\"#name for the planet"
   ]
  },
  {
   "cell_type": "markdown",
   "metadata": {},
   "source": [
    "## Define a Dictionary with some constants"
   ]
  },
  {
   "cell_type": "code",
   "execution_count": 3,
   "metadata": {},
   "outputs": [],
   "source": [
    "solar_system={\"M_sun\":1.0,\"G\":39.4784176043574320}"
   ]
  },
  {
   "cell_type": "markdown",
   "metadata": {},
   "source": [
    "## define some functions for setting the circular velocity, and acceleration"
   ]
  },
  {
   "cell_type": "code",
   "execution_count": 4,
   "metadata": {},
   "outputs": [],
   "source": [
    "def SolarCircularVelocity(p):\n",
    "    G = solar_system[\"G\"]\n",
    "    M = solar_system[\"M_sun\"]\n",
    "    r = (p.x[0]**2 + p.x[1]**2)**0.5\n",
    "    #return the circular velocity\n",
    "    return (G*M/r)**0.5"
   ]
  },
  {
   "cell_type": "markdown",
   "metadata": {},
   "source": [
    "## Write a function to compute the gravitational acceleration on each planet from the Sun"
   ]
  },
  {
   "cell_type": "code",
   "execution_count": 5,
   "metadata": {},
   "outputs": [],
   "source": [
    "def SolarGravitationalAcceleration(p):\n",
    "    G = solar_system[\"G\"]\n",
    "    M = solar_system[\"M_sun\"]\n",
    "    r = (p.x[0]**2 + p.x[1]**2)**0.5\n",
    "    #acceleration in AU/yr/yr\n",
    "    a_grav= -1.0*G*M/r**2\n",
    "    #find the angle at this position\n",
    "    if(p.x[0]==0.0):\n",
    "        if(p.x[1]>0.0):\n",
    "            theta = 0.5*np.pi\n",
    "        else:\n",
    "            theta = 1.5*np.pi\n",
    "    else:\n",
    "        theta = np.arctan2(p.x[1],p.x[0])\n",
    "    #set the x and y components of the velocity\n",
    "    #p.a_g[0] = a_grav * np.cos(theta)\n",
    "    #p.a_g[1] = a_grav * np.sin(theta)\n",
    "    return a_grav*np.cos(theta),a_grav*np.sin(theta)"
   ]
  },
  {
   "cell_type": "markdown",
   "metadata": {},
   "source": [
    "## Compute the timestep"
   ]
  },
  {
   "cell_type": "code",
   "execution_count": 6,
   "metadata": {},
   "outputs": [],
   "source": [
    "def calc_dt(p):\n",
    "    #integration tolerance\n",
    "    ETA_TIME_STEP = 0.0004\n",
    "    #compute timestep\n",
    "    eta = ETA_TIME_STEP\n",
    "    v=(p.v[0]**2+p.v[1]**2)**0.5\n",
    "    a=(p.a_g[0]**2+p.a_g[1]**2)**0.5\n",
    "    dt=eta*np.fmin(1./np.fabs(v),1./np.fabs(a)**0.5)\n",
    "    return dt"
   ]
  },
  {
   "cell_type": "markdown",
   "metadata": {},
   "source": [
    "## Define the initial conditions"
   ]
  },
  {
   "cell_type": "code",
   "execution_count": 7,
   "metadata": {},
   "outputs": [],
   "source": [
    "def SetPlanet(p, i):\n",
    "    AU_in_km = 1.495979e+8#an AU in km\n",
    "    #circular velocity\n",
    "    v_c=0.0#circular velocity in AU/yr\n",
    "    v_e=0.0#velocity at perhelion in AU/yr\n",
    "    #planet-by-planet initial conditions\n",
    "    #Mercury\n",
    "    if(i==0):\n",
    "        #semi-major axis in AU\n",
    "        p.a=57909227.0/AU_in_km\n",
    "        #eccentricity\n",
    "        p.e=0.20563593\n",
    "        #name\n",
    "        p.name=\"Mercury\"\n",
    "    #Venus\n",
    "    elif(i==1):\n",
    "        #semi-major axis in AU\n",
    "        p.a = 108209475.0/AU_in_km\n",
    "        #eccentricity\n",
    "        p.e=0.00677672\n",
    "        #name\n",
    "        p.name = \"Venus\"\n",
    "    #Earth\n",
    "    elif(i==2):\n",
    "        #semi-major axis in AU\n",
    "        p.a = 1.0\n",
    "        #eccentricity\n",
    "        p.e=0.01671123\n",
    "        #name\n",
    "        p.name = \"Earth\"\n",
    "    #set remaining properties\n",
    "    p.t=0.0\n",
    "    p.x[0]=p.a*(1.0-p.e)\n",
    "    p.x[1]=0.0\n",
    "    #get equiv circular velocity\n",
    "    v_c=SolarCircularVelocity(p)\n",
    "    #velocity at perihelion\n",
    "    v_e=v_c*(1+p.e)**0.5\n",
    "    #set velocity\n",
    "    p.v[0]=0.0#no x velocity at perihelion\n",
    "    p.vp[1]=v_e#y velocity at perihelion(counter clockwise)\n",
    "    #calculate gravitational acceleration from sun\n",
    "    p.a_g=SolarGravitationalAcceleration(p)\n",
    "    #set timestep\n",
    "    p.dt=calc_dt(p)\n",
    "    "
   ]
  },
  {
   "cell_type": "markdown",
   "metadata": {},
   "source": [
    "## Write leapfrog integrator"
   ]
  },
  {
   "cell_type": "code",
   "execution_count": 8,
   "metadata": {},
   "outputs": [],
   "source": [
    "def x_first_step(x_i, v_i, a_i, dt):\n",
    "    #x_1/2 = x_0 + 1/2 v_0 Delta_t + 1/4 a_0 Delta t^2\n",
    "    return x_i + 0.5*v_i*dt+0.25*_a_i*dt**2"
   ]
  },
  {
   "cell_type": "code",
   "execution_count": 10,
   "metadata": {},
   "outputs": [],
   "source": [
    "def v_full_step(v_i,a_ipoh,dt):\n",
    "    #v_i+1 = v_i +a_i+1/2 Delta t\n",
    "    return v_i + a_ipoh*dt;"
   ]
  },
  {
   "cell_type": "code",
   "execution_count": 11,
   "metadata": {},
   "outputs": [],
   "source": [
    "def x_full_step(x_ipoh,v_ip1,a_ipoh,dt):\n",
    "    #x_3/2=x_1/2+v_i+1 Delta t\n",
    "    return x_ipoh + v_ipl*dt;"
   ]
  },
  {
   "cell_type": "markdown",
   "metadata": {},
   "source": [
    "## Write a function to save the data to a file"
   ]
  },
  {
   "cell_type": "code",
   "execution_count": null,
   "metadata": {},
   "outputs": [],
   "source": [
    "def SaveSolarSystem(p,n_planets,t,dt,istep,ndim):\n",
    "    #loop over the number of planets\n",
    "    for i in range(n_planets):\n",
    "        #define a filename\n",
    "        fname=\"planet.%s.txt\"%p[i].name\n",
    "        if(istep==0):\n",
    "            #create file on first timestep\n",
    "            fp=open(fname,\"w\")\n",
    "        else:\n",
    "            #append the file on subsequent timesteps\n",
    "            fp=open(fname,\"a\")\n",
    "        #compute the drifted properties of the planet\n",
    "        v_drift=np.zeros(ndim)\n",
    "        for k in range(ndim):\n",
    "            v_drift[k] = p[i].v[k] + 0.5*p[i].a_g[k]*p[i].dt\n",
    "        #write the data to file\n",
    "        "
   ]
  }
 ],
 "metadata": {
  "kernelspec": {
   "display_name": "Python 3",
   "language": "python",
   "name": "python3"
  },
  "language_info": {
   "codemirror_mode": {
    "name": "ipython",
    "version": 3
   },
   "file_extension": ".py",
   "mimetype": "text/x-python",
   "name": "python",
   "nbconvert_exporter": "python",
   "pygments_lexer": "ipython3",
   "version": "3.6.5"
  }
 },
 "nbformat": 4,
 "nbformat_minor": 2
}
